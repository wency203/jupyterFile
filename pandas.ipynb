{
 "cells": [
  {
   "cell_type": "code",
   "execution_count": 41,
   "metadata": {},
   "outputs": [
    {
     "data": {
      "image/png": "[encoded data removed]",
      "text/plain": [
       "<Figure size 640x480 with 1 Axes>"
      ]
     },
     "metadata": {},
     "output_type": "display_data"
    }
   ],
   "source": [
    "import pandas as pd\n",
    "\n",
    "# df=pd.read_excel('http://www.gairuoo.com/file/data/team.xlsx')#文件来源于网上\n",
    "df=pd.read_excel('team.xlsx')#文件在同一目录\n",
    "#print('查看前5条:\\n',df.head())#默认查看前5条，括号内可写明想看的条数\n",
    "#print('\\n查看最后5条:\\n',df.tail())#默认查看后5条，括号内可写明想看的条数\n",
    "#print('\\n随机查看:\\n',df.sample(5))#随机查看5条\n",
    "#print(df.shape)#查看行数和列数\n",
    "#print('\\n查看索引、数据类型和内存信息:\\n',df.info())\n",
    "#df.describe()#查看数值类型列的汇总统计\n",
    "#print(df.head())\n",
    "# df.set_index('name',inplace=True)\n",
    "df.head()\n",
    "df[['Q1','Q2']]\n",
    "# df.Q1\n",
    "df.loc[:,['team','Q1']]\n",
    "df.iloc[:10,:]\n",
    "df[df.index=='Arry'].Q1\n",
    "df[0:10]#取前10行\n",
    "df.iloc[:10]#取前10行\n",
    "df.iloc[:10,:3]#取前10行,前3列\n",
    "# df[0:10:3]#在前10行中每3个取一个\n",
    "# df.loc['Ben','Q1':'Q4']  #报错\n",
    "df.loc['Eorge':'Acob','team':'Q4']#无结果\n",
    "\n",
    "df[df.Q1>90] \n",
    "df[df.team=='C']\n",
    "df[(df.Q1> 90) & (df.team=='C')] #组合筛选\n",
    "df[df.team=='C'].loc[df.Q1>90]#多重筛选\n",
    "\n",
    "df.sort_values(by='Q1')\n",
    "df.sort_values(by='team',ascending=False)\n",
    "df.sort_values(['team','Q1'],ascending=[True,False])\n",
    "\n",
    "df.groupby('team').mean(numeric_only=True)\n",
    "df.groupby('team').agg({\n",
    "    'Q1':sum,\n",
    "    'Q2':'count',\n",
    "    'Q3':'mean',\n",
    "    'Q4':max\n",
    "}).T\n",
    "\n",
    "df.groupby('team').sum(numeric_only=True).stack()\n",
    "df.groupby('team').sum(numeric_only=True).unstack()\n",
    "\n",
    "# df['Q1'].plot()\n",
    "# df.loc['Ben','Q1':'Q4'].plot() #报错\n",
    "# df.loc[:,'Q1':'Q4'].plot.barh()\n",
    "df.groupby('team').sum(numeric_only=True).T.plot()\n",
    "df.groupby('team').count().Q4.plot.pie()\n",
    "\n",
    "df['total']=df.Q1+df.Q2+df.Q3+df.Q4\n",
    "# df.to_excel('team-done.xlsx')\n",
    "\n"
   ]
  },
  {
   "cell_type": "code",
   "execution_count": 60,
   "metadata": {},
   "outputs": [
    {
     "name": "stdout",
     "output_type": "stream",
     "text": [
      "5\n",
      "6\n",
      "1\n",
      "18\n",
      "4\n",
      "102\n",
      "[1, 2, 4, 5, 6]\n",
      "[1, 2, 6, 4, 5, [8]]\n",
      "[1, 2, 6, 4, 5, [8], 10, 11]\n"
     ]
    },
    {
     "data": {
      "text/plain": [
       "['A', 'R', 'I', 'T', 'H', 'M', 'E', 'T', 'I', 'C', 'E', 'R', 'R', 'O', 'R']"
      ]
     },
     "execution_count": 60,
     "metadata": {},
     "output_type": "execute_result"
    }
   ],
   "source": [
    "#Python数据结构类型 list列表[]，列表可改变\n",
    "\n",
    "a = [1, 2, 6, 4, 5]\n",
    "print(len(a))\n",
    "print(max(a))\n",
    "print(min(a))\n",
    "print(sum(a))\n",
    "print(a.index(5))\n",
    "for i in a:\n",
    "    if i==2:\n",
    "        print(i+100)\n",
    "print(sorted(a))\n",
    "a.append([8])\n",
    "print(a)\n",
    "b=[10,11]\n",
    "a.extend(b)\n",
    "print(a)\n",
    "\n",
    "[i for i in range(10) if i%2==0]#[0, 2, 4, 6, 8]\n",
    "[i.upper() for i in 'ArithmeticError' if i!='']\n"
   ]
  },
  {
   "cell_type": "code",
   "execution_count": 67,
   "metadata": {},
   "outputs": [
    {
     "name": "stdout",
     "output_type": "stream",
     "text": [
      "Wency\n",
      "{'name': 'Wency', 'age': 18, 'height': 180, 'Sex': 'man'} {'name': 'Wency', 'age': 18, 'height': 180}\n"
     ]
    },
    {
     "data": {
      "text/plain": [
       "180"
      ]
     },
     "execution_count": 67,
     "metadata": {},
     "output_type": "execute_result"
    }
   ],
   "source": [
    "#Python数据结构类型 tuple元组()，通list列表，元组不可改变\n",
    "\n",
    "# Python数据结构类型 dict字典{}，键值对，键不可重复，重复时只取最后一个\n",
    "d0 = {'name': 'Wency', 'age': 18, 'height': 180}\n",
    "d1 = dict(name='Wency', age=18, height=180)\n",
    "d2 = dict([('name', 'Wency'), ('age', 18), ('height', 180)])\n",
    "d3 = dict(zip(['name', 'age', 'height'], ['Wency', 18, 180]))\n",
    "# print(d0, d1, d2, d3)\n",
    "\n",
    "print(d1['name'])\n",
    "d1['Sex']='man'\n",
    "print(d1,d0)\n",
    "d1.get('height')"
   ]
  }
 ],
 "metadata": {
  "kernelspec": {
   "display_name": "Python 3.9.12 ('base')",
   "language": "python",
   "name": "python3"
  },
  "language_info": {
   "codemirror_mode": {
    "name": "ipython",
    "version": 3
   },
   "file_extension": ".py",
   "mimetype": "text/x-python",
   "name": "python",
   "nbconvert_exporter": "python",
   "pygments_lexer": "ipython3",
   "version": "3.9.12"
  },
  "orig_nbformat": 4,
  "vscode": {
   "interpreter": {
    "hash": "19d1d53a962d236aa061289c2ac16dc8e6d9648c89fe79f459ae9a3493bc67b4"
   }
  }
 },
 "nbformat": 4,
 "nbformat_minor": 2
}
